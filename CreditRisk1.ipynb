{
 "cells": [
  {
   "cell_type": "code",
   "execution_count": 28,
   "metadata": {
    "collapsed": true
   },
   "outputs": [],
   "source": [
    "import pandas as pd\n",
    "import matplotlib.pyplot as plt\n"
   ]
  },
  {
   "cell_type": "code",
   "execution_count": 21,
   "outputs": [],
   "source": [
    "varlist = pd.read_csv('data/PAKDD2010_VariablesList_csv.csv')\n",
    "\n",
    "#data = pd.read_csv('data/PAKDD2010_Prediction_Data.txt', sep='\\t')\n"
   ],
   "metadata": {
    "collapsed": false,
    "pycharm": {
     "name": "#%%\n"
    }
   }
  },
  {
   "cell_type": "code",
   "execution_count": 22,
   "outputs": [
    {
     "name": "stdout",
     "output_type": "stream",
     "text": [
      "<bound method NDFrame.head of                          Var_Title;\n",
      "0                        ID_CLIENT;\n",
      "1                       CLERK_TYPE;\n",
      "2                      PAYMENT_DAY;\n",
      "3      APPLICATION_SUBMISSION_TYPE;\n",
      "4           QUANT_ADDITIONAL_CARDS;\n",
      "5              POSTAL_ADDRESS_TYPE;\n",
      "6                              SEX;\n",
      "7                   MARITAL_STATUS;\n",
      "8                 QUANT_DEPENDANTS;\n",
      "9                  EDUCATION_LEVEL;\n",
      "10                  STATE_OF_BIRTH;\n",
      "11                   CITY_OF_BIRTH;\n",
      "12                     NACIONALITY;\n",
      "13               RESIDENCIAL_STATE;\n",
      "14                RESIDENCIAL_CITY;\n",
      "15             RESIDENCIAL_BOROUGH;\n",
      "16          FLAG_RESIDENCIAL_PHONE;\n",
      "17     RESIDENCIAL_PHONE_AREA_CODE;\n",
      "18                  RESIDENCE_TYPE;\n",
      "19             MONTHS_IN_RESIDENCE;\n",
      "20               FLAG_MOBILE_PHONE;\n",
      "21                      FLAG_EMAIL;\n",
      "22         PERSONAL_MONTHLY_INCOME;\n",
      "23                   OTHER_INCOMES;\n",
      "24                       FLAG_VISA;\n",
      "25                 FLAG_MASTERCARD;\n",
      "26                     FLAG_DINERS;\n",
      "27           FLAG_AMERICAN_EXPRESS;\n",
      "28                FLAG_OTHER_CARDS;\n",
      "29          QUANT_BANKING_ACCOUNTS;\n",
      "30  QUANT_SPECIAL_BANKING_ACCOUNTS;\n",
      "31           PERSONAL_ASSETS_VALUE;\n",
      "32                      QUANT_CARS;\n",
      "33                         COMPANY;\n",
      "34              PROFESSIONAL_STATE;\n",
      "35               PROFESSIONAL_CITY;\n",
      "36            PROFESSIONAL_BOROUGH;\n",
      "37         FLAG_PROFESSIONAL_PHONE;\n",
      "38    PROFESSIONAL_PHONE_AREA_CODE;\n",
      "39               MONTHS_IN_THE_JOB;\n",
      "40                 PROFESSION_CODE;\n",
      "41                 OCCUPATION_TYPE;\n",
      "42            MATE_PROFESSION_CODE;\n",
      "43                 EDUCATION_LEVEL;\n",
      "44      FLAG_HOME_ADDRESS_DOCUMENT;\n",
      "45                         FLAG_RG;\n",
      "46                        FLAG_CPF;\n",
      "47               FLAG_INCOME_PROOF;\n",
      "48                         PRODUCT;\n",
      "49                FLAG_ACSP_RECORD;\n",
      "50                             AGE;\n",
      "51               RESIDENCIAL_ZIP_3;\n",
      "52              PROFESSIONAL_ZIP_3;\n",
      "53              TARGET_LABEL_BAD=1;>\n"
     ]
    }
   ],
   "source": [
    "print(varlist.head)"
   ],
   "metadata": {
    "collapsed": false,
    "pycharm": {
     "name": "#%%\n"
    }
   }
  },
  {
   "cell_type": "code",
   "execution_count": 23,
   "outputs": [
    {
     "name": "stdout",
     "output_type": "stream",
     "text": [
      "['ID_CLIENT', 'CLERK_TYPE', 'PAYMENT_DAY', 'APPLICATION_SUBMISSION_TYPE', 'QUANT_ADDITIONAL_CARDS', 'POSTAL_ADDRESS_TYPE', 'SEX', 'MARITAL_STATUS', 'QUANT_DEPENDANTS', 'EDUCATION_LEVEL', 'STATE_OF_BIRTH', 'CITY_OF_BIRTH', 'NACIONALITY', 'RESIDENCIAL_STATE', 'RESIDENCIAL_CITY', 'RESIDENCIAL_BOROUGH', 'FLAG_RESIDENCIAL_PHONE', 'RESIDENCIAL_PHONE_AREA_CODE', 'RESIDENCE_TYPE', 'MONTHS_IN_RESIDENCE', 'FLAG_MOBILE_PHONE', 'FLAG_EMAIL', 'PERSONAL_MONTHLY_INCOME', 'OTHER_INCOMES', 'FLAG_VISA', 'FLAG_MASTERCARD', 'FLAG_DINERS', 'FLAG_AMERICAN_EXPRESS', 'FLAG_OTHER_CARDS', 'QUANT_BANKING_ACCOUNTS', 'QUANT_SPECIAL_BANKING_ACCOUNTS', 'PERSONAL_ASSETS_VALUE', 'QUANT_CARS', 'COMPANY', 'PROFESSIONAL_STATE', 'PROFESSIONAL_CITY', 'PROFESSIONAL_BOROUGH', 'FLAG_PROFESSIONAL_PHONE', 'PROFESSIONAL_PHONE_AREA_CODE', 'MONTHS_IN_THE_JOB', 'PROFESSION_CODE', 'OCCUPATION_TYPE', 'MATE_PROFESSION_CODE', 'EDUCATION_LEVEL', 'FLAG_HOME_ADDRESS_DOCUMENT', 'FLAG_RG', 'FLAG_CPF', 'FLAG_INCOME_PROOF', 'PRODUCT', 'FLAG_ACSP_RECORD', 'AGE', 'RESIDENCIAL_ZIP_3', 'PROFESSIONAL_ZIP_3', 'TARGET_LABEL_BAD=1']\n"
     ]
    }
   ],
   "source": [
    "nome_colunas = varlist['Var_Title;'].tolist()\n",
    "length = len(nome_colunas)\n",
    "for i in range(length):\n",
    "    nome_colunas[i] = nome_colunas[i][:-1]\n",
    "\n",
    "\n",
    "print(nome_colunas)"
   ],
   "metadata": {
    "collapsed": false,
    "pycharm": {
     "name": "#%%\n"
    }
   }
  },
  {
   "cell_type": "code",
   "execution_count": 24,
   "outputs": [
    {
     "name": "stderr",
     "output_type": "stream",
     "text": [
      "C:\\Users\\guitr\\PycharmProjects\\CreditRisk\\venv\\lib\\site-packages\\IPython\\core\\interactiveshell.py:3524: DtypeWarning: Columns (51,52) have mixed types.Specify dtype option on import or set low_memory=False.\n",
      "  exec(code_obj, self.user_global_ns, self.user_ns)\n"
     ]
    }
   ],
   "source": [
    "train_data = pd.read_csv('data/PAKDD2010_Modeling_Data.txt', header=None, encoding=\"ISO-8859-1\", sep='\\t', dtype={'AGE': int,'RESIDENTIAL_ZIP_3': int})\n",
    "train_data.columns = nome_colunas\n",
    "\n"
   ],
   "metadata": {
    "collapsed": false,
    "pycharm": {
     "name": "#%%\n"
    }
   }
  },
  {
   "cell_type": "code",
   "execution_count": 25,
   "outputs": [
    {
     "data": {
      "text/plain": "Index(['ID_CLIENT', 'CLERK_TYPE', 'PAYMENT_DAY', 'APPLICATION_SUBMISSION_TYPE',\n       'QUANT_ADDITIONAL_CARDS', 'POSTAL_ADDRESS_TYPE', 'SEX',\n       'MARITAL_STATUS', 'QUANT_DEPENDANTS', 'EDUCATION_LEVEL',\n       'STATE_OF_BIRTH', 'CITY_OF_BIRTH', 'NACIONALITY', 'RESIDENCIAL_STATE',\n       'RESIDENCIAL_CITY', 'RESIDENCIAL_BOROUGH', 'FLAG_RESIDENCIAL_PHONE',\n       'RESIDENCIAL_PHONE_AREA_CODE', 'RESIDENCE_TYPE', 'MONTHS_IN_RESIDENCE',\n       'FLAG_MOBILE_PHONE', 'FLAG_EMAIL', 'PERSONAL_MONTHLY_INCOME',\n       'OTHER_INCOMES', 'FLAG_VISA', 'FLAG_MASTERCARD', 'FLAG_DINERS',\n       'FLAG_AMERICAN_EXPRESS', 'FLAG_OTHER_CARDS', 'QUANT_BANKING_ACCOUNTS',\n       'QUANT_SPECIAL_BANKING_ACCOUNTS', 'PERSONAL_ASSETS_VALUE', 'QUANT_CARS',\n       'COMPANY', 'PROFESSIONAL_STATE', 'PROFESSIONAL_CITY',\n       'PROFESSIONAL_BOROUGH', 'FLAG_PROFESSIONAL_PHONE',\n       'PROFESSIONAL_PHONE_AREA_CODE', 'MONTHS_IN_THE_JOB', 'PROFESSION_CODE',\n       'OCCUPATION_TYPE', 'MATE_PROFESSION_CODE', 'EDUCATION_LEVEL',\n       'FLAG_HOME_ADDRESS_DOCUMENT', 'FLAG_RG', 'FLAG_CPF',\n       'FLAG_INCOME_PROOF', 'PRODUCT', 'FLAG_ACSP_RECORD', 'AGE',\n       'RESIDENCIAL_ZIP_3', 'PROFESSIONAL_ZIP_3', 'TARGET_LABEL_BAD=1'],\n      dtype='object')"
     },
     "execution_count": 25,
     "metadata": {},
     "output_type": "execute_result"
    }
   ],
   "source": [
    "train_data.columns\n"
   ],
   "metadata": {
    "collapsed": false,
    "pycharm": {
     "name": "#%%\n"
    }
   }
  },
  {
   "cell_type": "code",
   "execution_count": 30,
   "outputs": [
    {
     "name": "stdout",
     "output_type": "stream",
     "text": [
      "0         900.00\n",
      "1         750.00\n",
      "2         500.00\n",
      "3         500.00\n",
      "4        1200.00\n",
      "          ...   \n",
      "49995    1451.00\n",
      "49996     450.00\n",
      "49997    1555.00\n",
      "49998    1443.27\n",
      "49999     719.38\n",
      "Name: PERSONAL_MONTHLY_INCOME, Length: 50000, dtype: float64\n"
     ]
    }
   ],
   "source": [
    "print(train_data['PERSONAL_MONTHLY_INCOME'])\n",
    "\n"
   ],
   "metadata": {
    "collapsed": false,
    "pycharm": {
     "name": "#%%\n"
    }
   }
  },
  {
   "cell_type": "code",
   "execution_count": 31,
   "outputs": [
    {
     "data": {
      "text/plain": "<Figure size 432x288 with 1 Axes>",
      "image/png": "[encoded data removed]"
     },
     "metadata": {
      "needs_background": "light"
     },
     "output_type": "display_data"
    }
   ],
   "source": [
    "n, bin, patches = plt.hist(x=train_data['PERSONAL_MONTHLY_INCOME'], bins='auto', color='white', alpha=0.7,rwidth=0.85)\n",
    "plt.xlabel(\"Monthly Income\")\n",
    "plt.show()"
   ],
   "metadata": {
    "collapsed": false,
    "pycharm": {
     "name": "#%%\n"
    }
   }
  },
  {
   "cell_type": "code",
   "execution_count": null,
   "outputs": [],
   "source": [],
   "metadata": {
    "collapsed": false,
    "pycharm": {
     "name": "#%%\n"
    }
   }
  }
 ],
 "metadata": {
  "kernelspec": {
   "display_name": "Python 3",
   "language": "python",
   "name": "python3"
  },
  "language_info": {
   "codemirror_mode": {
    "name": "ipython",
    "version": 2
   },
   "file_extension": ".py",
   "mimetype": "text/x-python",
   "name": "python",
   "nbconvert_exporter": "python",
   "pygments_lexer": "ipython2",
   "version": "2.7.6"
  }
 },
 "nbformat": 4,
 "nbformat_minor": 0
}